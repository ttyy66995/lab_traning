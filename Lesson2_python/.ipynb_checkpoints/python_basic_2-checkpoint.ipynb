{
 "cells": [
  {
   "cell_type": "code",
   "execution_count": null,
   "metadata": {},
   "outputs": [],
   "source": [
    "# list/tuple"
   ]
  },
  {
   "cell_type": "code",
   "execution_count": null,
   "metadata": {},
   "outputs": [],
   "source": [
    "# tuple\n",
    "tp1 = 1, 2, 3\n",
    "tp2 = (1, 2, 3)\n",
    "print(type(tp1), tp1)\n",
    "print(type(tp2), tp2)"
   ]
  },
  {
   "cell_type": "code",
   "execution_count": null,
   "metadata": {},
   "outputs": [],
   "source": [
    "for i in range(len(tp1)):\n",
    "    print(tp1[i])\n",
    "    print(tp2[i])\n",
    "    print(tp1[i]+tp2[i])\n",
    "    print('====')"
   ]
  },
  {
   "cell_type": "code",
   "execution_count": null,
   "metadata": {},
   "outputs": [],
   "source": [
    "for i in tp1:\n",
    "    print(i)"
   ]
  },
  {
   "cell_type": "code",
   "execution_count": null,
   "metadata": {},
   "outputs": [],
   "source": [
    "a, b, c = tp1\n",
    "print(a, b, c)"
   ]
  },
  {
   "cell_type": "code",
   "execution_count": null,
   "metadata": {},
   "outputs": [],
   "source": [
    "# tuple不能更改值\n",
    "tp1[0] = 5\n",
    "print(tp1)"
   ]
  },
  {
   "cell_type": "code",
   "execution_count": null,
   "metadata": {},
   "outputs": [],
   "source": [
    "# list\n",
    "list1 = [1, 2, 3]\n",
    "print(type(list1), list1)\n",
    "\n",
    "for i in range(len(list1)):\n",
    "    print(list1[i])"
   ]
  },
  {
   "cell_type": "code",
   "execution_count": null,
   "metadata": {},
   "outputs": [],
   "source": [
    "list2 = [i for i in range(10)]\n",
    "print(list2)\n",
    "print(list2[0:5])\n",
    "print(list2[:5])\n",
    "print(list2[5:])\n",
    "print(list2[:])\n",
    "print(list2[-1])\n",
    "print(list2[-2])\n",
    "print('=======')\n",
    "print(max(list2))\n",
    "print(min(list2))\n",
    "print(len(list2))"
   ]
  },
  {
   "cell_type": "code",
   "execution_count": null,
   "metadata": {},
   "outputs": [],
   "source": [
    "print(list2.index(5)) # return符合的第一個index\n",
    "list3 = [1, 1, 2, 2]\n",
    "print(list3.index(2))"
   ]
  },
  {
   "cell_type": "code",
   "execution_count": null,
   "metadata": {},
   "outputs": [],
   "source": [
    "list4 = [2, 5, 4, 7]\n",
    "print(list4)\n",
    "\n",
    "list4.append(9)\n",
    "print(list4)\n",
    "\n",
    "list4.extend([1, 6])\n",
    "print(list4)\n",
    "\n",
    "list4.insert(2, 9) # insert(index, obj)\n",
    "print(list4)\n",
    "\n",
    "list4.remove(9) # 符合的第一個obj\n",
    "print(list4)\n",
    "\n",
    "del list4[3] #刪除第幾index\n",
    "print(list4)\n",
    "\n",
    "list4.pop() # 預設刪除最後index\n",
    "print(list4)\n",
    "\n",
    "list4.pop(2) #刪除第幾index\n",
    "print(list4)\n",
    "\n",
    "list4.sort()\n",
    "print(list4)"
   ]
  },
  {
   "cell_type": "code",
   "execution_count": null,
   "metadata": {},
   "outputs": [],
   "source": [
    "list5 = [1, 2]\n",
    "list6 = [3, 4]\n",
    "print(list5+list6)\n",
    "\n",
    "list7 = [0]*5\n",
    "print(list7)"
   ]
  },
  {
   "cell_type": "code",
   "execution_count": null,
   "metadata": {},
   "outputs": [],
   "source": [
    "# split(), replace()\n",
    "string_s = 'yahoo.com.tw'\n",
    "list_s = string_s.split('.')\n",
    "print(list_s)\n",
    "\n",
    "string_r = string_s.replace('.', '!')\n",
    "print(string_r)"
   ]
  },
  {
   "cell_type": "code",
   "execution_count": null,
   "metadata": {},
   "outputs": [],
   "source": [
    "# dict/set\n",
    "dict1 = {'key1':'value1', 'key2':'value2'}\n",
    "\n",
    "print(dict1['key1'])\n",
    "\n",
    "print(dict1.keys())\n",
    "print(dict1.values())"
   ]
  },
  {
   "cell_type": "code",
   "execution_count": null,
   "metadata": {},
   "outputs": [],
   "source": [
    "# test\n",
    "#自己用open創.txt，一行一條序列(ATCG等等)，輸出反轉互補後的序列成.txt並也一行一條序列(ATCG -> TAGC)"
   ]
  },
  {
   "cell_type": "code",
   "execution_count": null,
   "metadata": {},
   "outputs": [],
   "source": [
    "dict1['key3'] = 'value3'\n",
    "print(dict1)\n",
    "\n",
    "dict1['key3'] = 'valuex' # 更換value\n",
    "print(dict1)\n",
    "\n",
    "dict1.setdefault('key4', 'value4') # 若eky已存在則不會新增\n",
    "print(dict1)\n",
    "\n",
    "dict1.update({'key5': 'value5'})\n",
    "print(dict1)\n",
    "\n",
    "dict1.update({'key5': 'valuey'}) # 更換value\n",
    "print(dict1)\n",
    "\n",
    "del dict1['key5']\n",
    "print(dict1)"
   ]
  },
  {
   "cell_type": "code",
   "execution_count": 1,
   "metadata": {},
   "outputs": [
    {
     "name": "stdout",
     "output_type": "stream",
     "text": [
      "set()\n",
      "{1, 2, 3, 4, 5}\n",
      "{1, 2, 3, 4, 5}\n",
      "{40, 10, 50, 20, 30}\n",
      "{1, 2, 3}\n"
     ]
    }
   ],
   "source": [
    "# set\n",
    "# 集合 (Set) 其實和數組 (Tuple) 與串列 (List) 類似, 但集合不會包含重複的資料\n",
    "\n",
    "set1 = set()# 建立空的集合\n",
    "\n",
    "set2 = {1, 2, 3, 4, 5}\n",
    "\n",
    "# 從串列 (List) 來建立集合\n",
    "set3 = set([1, 2, 3, 4, 5])\n",
    "\n",
    "# 從數組 (Tuple) 來建立集合\n",
    "set4 = set((10, 20, 30, 40, 50))\n",
    "\n",
    "# 集合不會包含重複的資料, 你可以從 set5 印出來的結果得知\n",
    "set5 = set((1, 1, 1, 2, 2, 3))\n",
    "\n",
    "print(set1)\n",
    "print(set2)\n",
    "print(set3)\n",
    "print(set4)\n",
    "print(set5)"
   ]
  },
  {
   "cell_type": "code",
   "execution_count": 2,
   "metadata": {},
   "outputs": [
    {
     "name": "stdout",
     "output_type": "stream",
     "text": [
      "{1, 2, 3, 4, 5, 6}\n",
      "{40, 10, 50, 30}\n",
      "5\n",
      "30\n",
      "10\n",
      "2\n",
      "True\n",
      "False\n",
      "True\n",
      "False\n"
     ]
    }
   ],
   "source": [
    "set2 = {1, 2, 3, 4, 5}\n",
    "set4 = set((10, 20, 30, 40, 50))\n",
    "\n",
    "set2.add(6) # 在 set2 中加入 6\n",
    "set4.remove(20) # 將 set4 中的 20 刪除\n",
    "\n",
    "print(set2)\n",
    "print(set4)"
   ]
  },
  {
   "cell_type": "code",
   "execution_count": null,
   "metadata": {},
   "outputs": [],
   "source": [
    "set1 = {2, 4, 6, 8, 10}\n",
    "\n",
    "print(len(set1))\n",
    "print(sum(set1))\n",
    "print(max(set1))\n",
    "print(min(set1))"
   ]
  },
  {
   "cell_type": "code",
   "execution_count": null,
   "metadata": {},
   "outputs": [],
   "source": [
    "set1 = {2, 4, 6, 8, 10}\n",
    "\n",
    "print(2 in set1)\n",
    "print(11 in set1)\n",
    "print(3 not in set1)\n",
    "print(4 not in set1)"
   ]
  },
  {
   "cell_type": "code",
   "execution_count": null,
   "metadata": {},
   "outputs": [],
   "source": [
    "# pass/continue/break\n",
    "# break：強制跳出 ❮整個❯ 迴圈\n",
    "# continue：強制跳出 ❮本次❯ 迴圈，繼續進入下一圈\n",
    "# pass：不做任何事情，所有的程式都將繼續\n",
    "\n",
    "for i in range(0,5):\n",
    "    if i == 3:\n",
    "        pass\n",
    "        #print(i)\n",
    "    print(i)"
   ]
  },
  {
   "cell_type": "code",
   "execution_count": null,
   "metadata": {},
   "outputs": [],
   "source": [
    "for i in range(0,5):\n",
    "    if i == 3:\n",
    "        continue\n",
    "    print(i)"
   ]
  },
  {
   "cell_type": "code",
   "execution_count": null,
   "metadata": {},
   "outputs": [],
   "source": [
    "\n",
    "for i in range(0,5):\n",
    "    if i == 3:\n",
    "        break\n",
    "    print(i)"
   ]
  },
  {
   "cell_type": "code",
   "execution_count": null,
   "metadata": {},
   "outputs": [],
   "source": [
    "# try:...except:...\n",
    "print(dict1['key100'])"
   ]
  },
  {
   "cell_type": "code",
   "execution_count": null,
   "metadata": {},
   "outputs": [],
   "source": [
    "try:\n",
    "    #print(dict1['key1'])\n",
    "    print(dict1['key100'])\n",
    "except:\n",
    "#except KeyError: # IndexError\n",
    "    print('no such key')"
   ]
  },
  {
   "cell_type": "code",
   "execution_count": null,
   "metadata": {},
   "outputs": [],
   "source": [
    "# test 2\n",
    "# 輸出反轉互補後的序列成.txt並也一行一條序列(ATCG -> TAGC)\n",
    "# 將符合之序列存入字典中，其key為物種名(自己命就好)，而非其中字母需輸出原序列，並標示其不符合，並print於畫面中"
   ]
  },
  {
   "cell_type": "code",
   "execution_count": null,
   "metadata": {},
   "outputs": [],
   "source": [
    "# input/argv\n",
    "input() # 輸入為str\n",
    "sys.argv()\n",
    "ArgumentParser(prog=None, usage=None, description=None, epilog=None)"
   ]
  },
  {
   "cell_type": "markdown",
   "metadata": {},
   "source": [
    "# Homework Exercise 1\n",
    "\n",
    "1. 將符合之資料(chrX, from a to b)，記錄其 ratio 及數量並計算平均ratio。\n",
    "2. 只要有碰到區域內(不用全部包含)的資料就要記錄。\n",
    "3. 輸出所有符合之ratio以及平均ratio\n",
    "4. 執行時間\n",
    "\n",
    "\n",
    "* 執行程式找出包含在chrI 11300-11500區段內的chip-chip ratio\n",
    "* 找出包含在chrXI 168000-168600區段內的chip-chip ratio\n",
    "* 將程式包裝成可供使用者輸入chr 跟start pos,end pos,並將搜尋結果輸出\n",
    "* 只能用time計算時間，不能使用其他套件"
   ]
  },
  {
   "cell_type": "code",
   "execution_count": null,
   "metadata": {},
   "outputs": [],
   "source": []
  }
 ],
 "metadata": {
  "kernelspec": {
   "display_name": "Python 3",
   "language": "python",
   "name": "python3"
  },
  "language_info": {
   "codemirror_mode": {
    "name": "ipython",
    "version": 3
   },
   "file_extension": ".py",
   "mimetype": "text/x-python",
   "name": "python",
   "nbconvert_exporter": "python",
   "pygments_lexer": "ipython3",
   "version": "3.6.10"
  }
 },
 "nbformat": 4,
 "nbformat_minor": 4
}
