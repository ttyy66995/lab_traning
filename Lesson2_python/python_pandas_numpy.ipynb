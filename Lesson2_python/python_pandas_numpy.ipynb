{
 "cells": [
  {
   "cell_type": "markdown",
   "metadata": {},
   "source": [
    "# Pandas & Numpy\n",
    "\n",
    "* 運算速度快\n",
    "* 消耗資源少，採用矩陣運算\n",
    "* 函式庫中有很多方便好用的資料分析工具\n",
    "\n",
    "pip install"
   ]
  },
  {
   "cell_type": "markdown",
   "metadata": {},
   "source": [
    "# numpy\n",
    "\n",
    "* 裝載相同類型資料的多維度陣列，通常會稱一維陣列為向量(vector)，二維陣列為矩陣(matrix)\n",
    "* 常使用於機器學習(深度學習、神經網路)\n",
    "* 資料科學分析數據\n",
    "* 參考：https://medium.com/python4u/hello-numpy-b5ebe67a1ada"
   ]
  },
  {
   "cell_type": "code",
   "execution_count": 2,
   "metadata": {},
   "outputs": [],
   "source": [
    "import numpy as np"
   ]
  },
  {
   "cell_type": "code",
   "execution_count": null,
   "metadata": {},
   "outputs": [],
   "source": [
    "a = np.array([1, 2, 3, 4]) # 建立一維陣列，list、tuple皆可\n",
    "print(a)\n",
    "print('-----')\n",
    "b = np.array([(2.5, 1, 3, 4.5), (5, 6, 7, 8)], dtype = float)  # 二維陣列, type可加可不加\n",
    "print(b)\n",
    "print('-----')\n",
    "c = np.array([[(2.5, 1, 3, 4.5), (5, 6, 7, 8)], [(2.5, 1, 3, 4.5), (5, 6, 7, 8)]])  #三維陣列建立\n",
    "print(c)"
   ]
  },
  {
   "cell_type": "code",
   "execution_count": null,
   "metadata": {},
   "outputs": [],
   "source": [
    "a = np.zeros((2, 3)) # 2x3全為0的陣列\n",
    "print(a, '\\n-----')\n",
    "b = np.ones((2, 3, 4)) # 2x3x4全為1的陣列\n",
    "print(b, '\\n-----')\n",
    "c = np.full((3,2), 8) # 3x2全為8的陣列\n",
    "print(c, '\\n-----')\n",
    "d = np.eye(2)  # 2x2的單位矩陣\n",
    "print(d, '\\n-----')\n",
    "e = np.random.random((2,3))  # 2x3隨機值(0~1)的矩陣\n",
    "print(e)"
   ]
  },
  {
   "cell_type": "code",
   "execution_count": 3,
   "metadata": {},
   "outputs": [
    {
     "name": "stdout",
     "output_type": "stream",
     "text": [
      "[[[1. 1. 1. 1.]\n",
      "  [1. 1. 1. 1.]\n",
      "  [1. 1. 1. 1.]]\n",
      "\n",
      " [[1. 1. 1. 1.]\n",
      "  [1. 1. 1. 1.]\n",
      "  [1. 1. 1. 1.]]]\n",
      "(2, 3, 4)\n",
      "2\n",
      "3\n",
      "24\n",
      "[[['1.0' '1.0' '1.0' '1.0']\n",
      "  ['1.0' '1.0' '1.0' '1.0']\n",
      "  ['1.0' '1.0' '1.0' '1.0']]\n",
      "\n",
      " [['1.0' '1.0' '1.0' '1.0']\n",
      "  ['1.0' '1.0' '1.0' '1.0']\n",
      "  ['1.0' '1.0' '1.0' '1.0']]]\n",
      "=======\n",
      "[['1.0' '1.0' '1.0' '1.0' '1.0' '1.0']\n",
      " ['1.0' '1.0' '1.0' '1.0' '1.0' '1.0']\n",
      " ['1.0' '1.0' '1.0' '1.0' '1.0' '1.0']\n",
      " ['1.0' '1.0' '1.0' '1.0' '1.0' '1.0']]\n"
     ]
    }
   ],
   "source": [
    "a = np.ones((2, 3, 4))\n",
    "print(a)\n",
    "print(a.shape) # 陣列維度\n",
    "print(len(a)) # 陣列長度(x)\n",
    "print(a.ndim) # 陣列維度大小(number of dimensions)\n",
    "print(a.size) # 陣列元素數量\n",
    "\n",
    "a = a.astype(str) # 更換元素類別\n",
    "print(a)\n",
    "print('=======')\n",
    "b = a.reshape(4, 6)\n",
    "print(b)"
   ]
  },
  {
   "cell_type": "code",
   "execution_count": null,
   "metadata": {},
   "outputs": [],
   "source": [
    "# index\n",
    "a = np.array([1, 2, 3, 4])\n",
    "print(a[0])\n",
    "print(a[0:2])\n",
    "print('-------')\n",
    "b = np.array([(2.5, 1, 3, 4.5), (5, 6, 7, 8)])\n",
    "print(b[1])\n",
    "print(b[1, 3])\n",
    "print(b[0:, :2])"
   ]
  },
  {
   "cell_type": "code",
   "execution_count": null,
   "metadata": {},
   "outputs": [],
   "source": [
    "a = np.array([[1, 2], [1, 2]])\n",
    "b = np.array([[2, 4], [2, 4]])\n",
    "print(np.add(a, b))     #等同a+b\n",
    "print(a+b)\n",
    "print('---')\n",
    "print(np.subtract(a, b)) #等同a-b\n",
    "print('---')\n",
    "print(np.multiply(a, b)) #等同a*b\n",
    "print(a.dot(b)) #矩陣乘法\n",
    "print('---')\n",
    "print(np.divide(a, b)) #等同a/b"
   ]
  },
  {
   "cell_type": "code",
   "execution_count": null,
   "metadata": {},
   "outputs": [],
   "source": [
    "a = np.array([(2.5, 1, 3, 4.5), (5, 6, 7, 8)]) # 多維必須思考軸的對應\n",
    "\n",
    "print(a.sum(axis=0))\n",
    "print(a.min(axis=1))\n",
    "print(a.max(axis=0))\n",
    "print('---')\n",
    "print(np.median(a, axis=0))\n",
    "print(np.mean(a, axis=1))\n",
    "print(np.std(a, axis=0))"
   ]
  },
  {
   "cell_type": "markdown",
   "metadata": {},
   "source": [
    "# Pandas\n",
    "* 等同於表格(ex:excel)，有column、row\n",
    "* pandas為基於numpy產生的套件，使用大量資料運算時較能表現佳\n",
    "* 參考：https://oranwind.org/python-pandas-ji-chu-jiao-xue/"
   ]
  },
  {
   "cell_type": "code",
   "execution_count": 4,
   "metadata": {},
   "outputs": [],
   "source": [
    "import pandas as pd"
   ]
  },
  {
   "cell_type": "code",
   "execution_count": null,
   "metadata": {},
   "outputs": [],
   "source": [
    "# Series\n",
    "# 索引標籤(index)和實際值的陣列組合\n",
    "series_1 = pd.Series([2, 1, 7, 3])\n",
    "\n",
    "print(series_1)\n",
    "print(series_1[2])"
   ]
  },
  {
   "cell_type": "code",
   "execution_count": 5,
   "metadata": {},
   "outputs": [
    {
     "name": "stdout",
     "output_type": "stream",
     "text": [
      "factory    Taipei\n",
      "sensor1         1\n",
      "sensor2         2\n",
      "sensor3         3\n",
      "sensor4         4\n",
      "sensor5         5\n",
      "dtype: object\n",
      "=====\n",
      "Taipei\n",
      "=====\n",
      "1\n",
      "=====\n",
      "factory    Taipei\n",
      "sensor2         2\n",
      "sensor4         4\n",
      "dtype: object\n",
      "=====\n",
      "factory    Taipei\n",
      "sensor1         1\n",
      "sensor3         3\n",
      "dtype: object\n"
     ]
    }
   ],
   "source": [
    "dict = {  \n",
    "    \"factory\": \"Taipei\",\n",
    "    \"sensor1\": \"1\",\n",
    "    \"sensor2\": \"2\",\n",
    "    \"sensor3\": \"3\",\n",
    "    \"sensor4\": \"4\",\n",
    "    \"sensor5\": \"5\"\n",
    "}\n",
    "\n",
    "select = pd.Series(dict, index = dict.keys())\n",
    "print(select)\n",
    "print(\"=====\")\n",
    "print(select[0])  # 利用index找值\n",
    "print(\"=====\")  \n",
    "print(select['sensor1'])  # 利用index(自定義)找值\n",
    "print(\"=====\")  \n",
    "print(select[[0, 2, 4]])  \n",
    "print(\"=====\")  \n",
    "print(select[['factory', 'sensor1', 'sensor3']])"
   ]
  },
  {
   "cell_type": "code",
   "execution_count": null,
   "metadata": {},
   "outputs": [],
   "source": [
    "# DataFrame\n",
    "# 類似試算表和關聯式資料庫資料表（table）欄列結構\n",
    "# 開excel\n",
    "dataframe_1 = pd.read_csv('pandas_sample.csv') # 讀檔\n",
    "print(dataframe_1)\n",
    "#dataframe_1.to_csv('pandas_sample.csv') # 存檔"
   ]
  },
  {
   "cell_type": "code",
   "execution_count": 6,
   "metadata": {},
   "outputs": [
    {
     "name": "stdout",
     "output_type": "stream",
     "text": [
      "    groups  num\n",
      "0   Movies   46\n",
      "1   Sports    8\n",
      "2   Coding   12\n",
      "3  Fishing   12\n",
      "4  Dancing    6\n",
      "5  cooking   58\n"
     ]
    }
   ],
   "source": [
    "# 創立dataframe\n",
    "# from dict\n",
    "groups = [\"Movies\", \"Sports\", \"Coding\", \"Fishing\", \"Dancing\", \"cooking\"]  \n",
    "num = [46, 8, 12, 12, 6, 58]\n",
    "\n",
    "dict = {\"groups\": groups,  \n",
    "        \"num\": num}\n",
    "\n",
    "df = pd.DataFrame(dict)\n",
    "print(df)"
   ]
  },
  {
   "cell_type": "code",
   "execution_count": 7,
   "metadata": {},
   "outputs": [
    {
     "name": "stdout",
     "output_type": "stream",
     "text": [
      "    groups  num\n",
      "0   Movies   46\n",
      "1   Sports    8\n",
      "2   Coding   12\n",
      "3  Fishing   12\n",
      "4  Dancing    6\n",
      "5  cooking   58\n"
     ]
    }
   ],
   "source": [
    "# from list\n",
    "df = pd.DataFrame(columns = ['groups', 'num'])\n",
    "df['groups'] = groups\n",
    "df['num'] = num\n",
    "print(df)"
   ]
  },
  {
   "cell_type": "code",
   "execution_count": 8,
   "metadata": {},
   "outputs": [
    {
     "name": "stdout",
     "output_type": "stream",
     "text": [
      "     a    b    c    d\n",
      "0  0.0  0.0  0.0  0.0\n",
      "1  0.0  0.0  0.0  0.0\n",
      "2  0.0  0.0  0.0  0.0\n"
     ]
    }
   ],
   "source": [
    "# from numpy\n",
    "df = pd.DataFrame(np.ones((3,4))*0, columns=['a','b','c','d'])\n",
    "print(df)"
   ]
  },
  {
   "cell_type": "code",
   "execution_count": 9,
   "metadata": {},
   "outputs": [
    {
     "name": "stdout",
     "output_type": "stream",
     "text": [
      "(3, 4)\n",
      "---\n",
      "     a    b    c    d\n",
      "0  0.0  0.0  0.0  0.0\n",
      "1  0.0  0.0  0.0  0.0\n",
      "2  0.0  0.0  0.0  0.0\n",
      "---\n",
      "     a    b    c    d\n",
      "0  0.0  0.0  0.0  0.0\n",
      "1  0.0  0.0  0.0  0.0\n",
      "2  0.0  0.0  0.0  0.0\n",
      "---\n",
      "Index(['a', 'b', 'c', 'd'], dtype='object')\n",
      "---\n",
      "RangeIndex(start=0, stop=3, step=1)\n",
      "---\n",
      "<bound method DataFrame.info of      a    b    c    d\n",
      "0  0.0  0.0  0.0  0.0\n",
      "1  0.0  0.0  0.0  0.0\n",
      "2  0.0  0.0  0.0  0.0>\n"
     ]
    }
   ],
   "source": [
    "print(df.shape) # 回傳列數與欄數  \n",
    "print('---')\n",
    "print(df.head(3)) # 回傳前三筆值  \n",
    "print('---')  \n",
    "print(df.tail(3)) # 回傳後三筆值  \n",
    "print('---')  \n",
    "print(df.columns) # 回傳欄位名稱  \n",
    "print('---')  \n",
    "print(df.index) # 回傳 index  \n",
    "print('---')  \n",
    "print(df.info) # 回傳資料內容"
   ]
  },
  {
   "cell_type": "code",
   "execution_count": null,
   "metadata": {},
   "outputs": [],
   "source": [
    "print(type(df[\"num\"])) # 整列為series型態\n",
    "\n",
    "list_num  = list(df['num']) # 常轉為list使用\n",
    "print(type(list_num))"
   ]
  },
  {
   "cell_type": "code",
   "execution_count": null,
   "metadata": {},
   "outputs": [],
   "source": [
    "# iloc 先行後列，利用索引找值\n",
    "\n",
    "print(df.iloc[0, 1]) # 第一列第二欄：組的人數  \n",
    "print(\"---\")  \n",
    "print(df.iloc[0:1,:]) # 第一列：組的組名與人數  \n",
    "print(\"---\")  \n",
    "print(df.iloc[:,1]) # 第二欄：各組的人數  \n",
    "print('---')\n",
    "print(df.iloc[[0, 3],[0, 1]]) # 第1, 3行、第0, 1列資料\n",
    "print(\"---\")  \n",
    "# []選擇元素\n",
    "print(df[\"num\"]) # 各組的人數  \n",
    "print(\"---\")  \n",
    "print(df.num) # 各組的人數\n",
    "print('---')\n",
    "print(df['num'][0:4])"
   ]
  },
  {
   "cell_type": "code",
   "execution_count": null,
   "metadata": {},
   "outputs": [],
   "source": [
    "# loc 先行後列，利用欄名找值\n",
    "# 這部分列名(index)為數字編號，若index為名稱用法相同\n",
    "\n",
    "print(df.head())\n",
    "print('---')\n",
    "print(df.loc[0, 'num']) # 第一列第二欄(num)的人數  \n",
    "print(\"---\")  \n",
    "print(df.loc[0:1,:]) # 第一列\n",
    "print(\"---\")  \n",
    "print(df.loc[0:2,'groups':'num']) # 第0~2行、第'groups'~ 'num'欄資料\n",
    "print(\"---\")  \n",
    "print(df.loc[[1, 3], ['groups', 'num']]) # 第1, 3行、第'groups', 'num'欄資料"
   ]
  },
  {
   "cell_type": "code",
   "execution_count": null,
   "metadata": {},
   "outputs": [],
   "source": [
    "# 操作index\n",
    "print(df)\n",
    "print('---')\n",
    "\n",
    "out_df = df[df.loc[:,\"num\"] > 10] # 選出人數超過 10 的群組(index為原本)  \n",
    "print(out_df)\n",
    "print('---')\n",
    "\n",
    "out_df2 = out_df.reset_index(drop=True) # 重新編排索引，將原本index刪除(drop)\n",
    "print(out_df2)\n",
    "print('---')\n",
    "\n",
    "out_df3 = out_df.reset_index(drop=False) # 重新編排索引，保留原本index\n",
    "print(out_df3)\n",
    "print('---')\n",
    "\n",
    "out_df4 = out_df.copy()\n",
    "out_df4.set_index('groups', inplace=True) # 將某欄設為index (取代原本dataframe)\n",
    "print(out_df4)\n",
    "print('---')\n",
    "\n",
    "out_df5 = out_df.copy()\n",
    "out_df5 = out_df5.set_index('groups', inplace=False) # 將某欄設為index (不取代原本dataframe)\n",
    "print(out_df5)\n",
    "print(out_df)"
   ]
  },
  {
   "cell_type": "code",
   "execution_count": null,
   "metadata": {},
   "outputs": [],
   "source": [
    "# sort_values\n",
    "df_sort = df.sort_values(by = 'num') # 也可以為 groups  \n",
    "print(df_sort)"
   ]
  },
  {
   "cell_type": "code",
   "execution_count": null,
   "metadata": {},
   "outputs": [],
   "source": [
    "# 處理空值\n",
    "print(dataframe_1)"
   ]
  },
  {
   "cell_type": "code",
   "execution_count": null,
   "metadata": {},
   "outputs": [],
   "source": [
    "drop_value = dataframe_1.dropna() # 有遺失值的觀測值都刪除(整行刪除)  \n",
    "print(drop_value)  \n",
    "print(\"---\")  \n",
    "filled_value = dataframe_1.fillna(0) # 有遺失值的觀測值填補 0  \n",
    "print(filled_value)  \n",
    "print(\"---\")  \n",
    "filled_value_column = dataframe_1.fillna({\"student\": \"NULL\", \"english\": 0}) # 依欄位填補遺失值  \n",
    "print(filled_value_column)"
   ]
  },
  {
   "cell_type": "code",
   "execution_count": null,
   "metadata": {},
   "outputs": [],
   "source": [
    "english_value = dataframe_1[dataframe_1['english'].notnull()]\n",
    "print(english_value)"
   ]
  },
  {
   "cell_type": "code",
   "execution_count": null,
   "metadata": {},
   "outputs": [],
   "source": [
    "# 迭代 and 新增\n",
    "# for loop\n",
    "\n",
    "total = []\n",
    "for i in range(len(dataframe_1)):\n",
    "    total.append(dataframe_1['math'][i] + dataframe_1['english'][i] + dataframe_1['science'][i])\n",
    "    \n",
    "print(total)\n",
    "dataframe_1['total 1'] = total\n",
    "print(dataframe_1)"
   ]
  },
  {
   "cell_type": "code",
   "execution_count": null,
   "metadata": {},
   "outputs": [],
   "source": [
    "# iterrows() return(index, row data and its column name(series))\n",
    "'''\n",
    "0\n",
    "student            Jack\n",
    "id                    1\n",
    "math                 80\n",
    "english              20\n",
    "science              61\n",
    "description    positive\n",
    "class                2A\n",
    "total 1             161\n",
    "Name: 0, dtype: object\n",
    "'''\n",
    "total = []\n",
    "for i, row in dataframe_1.iterrows():\n",
    "    total.append(row['math'] + row['english'] + row['science'])\n",
    "dataframe_1['total 2'] = total\n",
    "print(dataframe_1)"
   ]
  },
  {
   "cell_type": "code",
   "execution_count": null,
   "metadata": {},
   "outputs": [],
   "source": [
    "# pandas 可直接整列運算\n",
    "dataframe_1['total 3'] = dataframe_1['math'] + dataframe_1['english'] + dataframe_1['science']\n",
    "print(dataframe_1)\n",
    "print(dataframe_1.columns)"
   ]
  },
  {
   "cell_type": "code",
   "execution_count": null,
   "metadata": {},
   "outputs": [],
   "source": [
    "# 新增行\n",
    "dataframe_2 = pd.DataFrame([('student', 'id', 'math', 'english', 'science', 'description', 'class',\n",
    "       'total 1', 'total 2', 'total 3')],\n",
    "    columns=['student', 'id', 'math', 'english', 'science', 'description', 'class',\n",
    "       'total 1', 'total 2', 'total 3'])\n",
    "print(dataframe_2)\n",
    "print('---')\n",
    "dataframe_3 = dataframe_1.append(dataframe_2, ignore_index=True) # 自動更新index\n",
    "print(dataframe_3)\n",
    "print('---')\n",
    "dataframe_4 = dataframe_1.append([dataframe_2, dataframe_2], ignore_index=True) # 更新多個\n",
    "print(dataframe_4)"
   ]
  },
  {
   "cell_type": "markdown",
   "metadata": {},
   "source": [
    "# test (exercise3_file)\n",
    "\n",
    "* 操作 pandas\n",
    "* avg:加權平均(math*2, eng*1.5, chinese*1.5)\n",
    "* type:看哪科最高(math:A, eng:B, chinese:C)\n",
    "* 小提示:查查idxmax怎麼用"
   ]
  },
  {
   "cell_type": "code",
   "execution_count": null,
   "metadata": {},
   "outputs": [],
   "source": [
    "# concat & merge (額外但常用) \n",
    "# http://violin-tao.blogspot.com/2017/06/pandas-2-concat-merge.html\n",
    "\n",
    "# concat\n",
    "df1 = pd.DataFrame(np.ones((3,4))*0, columns=['a','b','c','d'])\n",
    "df2 = pd.DataFrame(np.ones((3,4))*1, columns=['a','b','c','d'])\n",
    "print(df1)\n",
    "print(df2)"
   ]
  },
  {
   "cell_type": "code",
   "execution_count": null,
   "metadata": {},
   "outputs": [],
   "source": [
    "res = pd.concat([df1,df2],axis=0) #axis=0以直向合併\n",
    "print(res)\n",
    "print('---')\n",
    "res = pd.concat([df1,df2],axis=1) #axis=1以橫向合併\n",
    "print(res)\n",
    "print('---')\n",
    "res = pd.concat([df1,df2],axis=0, ignore_index=True) # 自動產生新的index\n",
    "print(res)"
   ]
  },
  {
   "cell_type": "code",
   "execution_count": null,
   "metadata": {},
   "outputs": [],
   "source": [
    "# merge\n",
    "left = pd.DataFrame({\n",
    "    'key':['K0','K1','K3'],\n",
    "    'A':['A0','A1','A3'],\n",
    "    'B':['B0','B1','B3']})\n",
    "\n",
    "right = pd.DataFrame({\n",
    "    'key':['K0','K1','K2'],\n",
    "    'C':['C0','C1','C2'],\n",
    "    'D':['D0','D1','D2']})\n",
    "print(left)\n",
    "print('---')\n",
    "print(right)"
   ]
  },
  {
   "cell_type": "code",
   "execution_count": null,
   "metadata": {},
   "outputs": [],
   "source": [
    "res = pd.merge(left,right, on='key') # 基於key把left和right合併(只合併共同存在的key)，也可有多個key(利用[])\n",
    "print(res)"
   ]
  },
  {
   "cell_type": "code",
   "execution_count": null,
   "metadata": {},
   "outputs": [],
   "source": [
    "res = pd.merge(left,right, on='key', how='inner') # inner，符合的合併\n",
    "print(res)\n",
    "print('---')\n",
    "res = pd.merge(left,right, on='key', how='outer') # outer，不合的部分也留下\n",
    "print(res)"
   ]
  },
  {
   "cell_type": "code",
   "execution_count": null,
   "metadata": {},
   "outputs": [],
   "source": [
    "res = pd.merge(left,right, on='key', how='left')  # 以left為準\n",
    "print(res)\n",
    "print('---')\n",
    "res = pd.merge(left,right, on='key', how='right') # 以right為準\n",
    "print(res)"
   ]
  },
  {
   "cell_type": "markdown",
   "metadata": {},
   "source": [
    "# Homework Exercise2\n",
    "\n",
    "* 上次為搜尋單一檔案\n",
    "* 此次擴大成搜尋全部檔案(22個)並輸出成如檔案格式:[output file](https://drive.google.com/file/d/1f5CkBfPkYlTVVGEeugHbWSfmqlzbdskM/view?usp=sharing)\n",
    "* 一樣可供使用者輸入\n",
    "* 輸出檔說明:track為每個檔案名以及'相同組別之組別名稱'，ave為ratio平均(若為整組部分則為其所有組員之平均)，number為符合條件之數量，all data為所有ratio\n",
    "* 計時"
   ]
  },
  {
   "cell_type": "code",
   "execution_count": null,
   "metadata": {},
   "outputs": [],
   "source": []
  }
 ],
 "metadata": {
  "kernelspec": {
   "display_name": "Python 3",
   "language": "python",
   "name": "python3"
  },
  "language_info": {
   "codemirror_mode": {
    "name": "ipython",
    "version": 3
   },
   "file_extension": ".py",
   "mimetype": "text/x-python",
   "name": "python",
   "nbconvert_exporter": "python",
   "pygments_lexer": "ipython3",
   "version": "3.6.10"
  }
 },
 "nbformat": 4,
 "nbformat_minor": 4
}
