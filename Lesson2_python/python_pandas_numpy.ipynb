{
 "cells": [
  {
   "cell_type": "markdown",
   "metadata": {},
   "source": [
    "# Pandas & Numpy\n",
    "\n",
    "* 運算速度快\n",
    "* 消耗資源少，採用矩陣運算\n",
    "* 函式庫中有很多方便好用的資料分析工具\n",
    "\n",
    "pip install"
   ]
  },
  {
   "cell_type": "markdown",
   "metadata": {},
   "source": [
    "# numpy\n",
    "\n",
    "* 裝載相同類型資料的多維度陣列，通常會稱一維陣列為向量(vector)，二維陣列為矩陣(matrix)\n",
    "* 常使用於機器學習(深度學習、神經網路)\n",
    "* 資料科學分析數據\n",
    "* 參考：https://medium.com/python4u/hello-numpy-b5ebe67a1ada"
   ]
  },
  {
   "cell_type": "code",
   "execution_count": 1,
   "metadata": {},
   "outputs": [],
   "source": [
    "import numpy as np"
   ]
  },
  {
   "cell_type": "code",
   "execution_count": 11,
   "metadata": {},
   "outputs": [
    {
     "name": "stdout",
     "output_type": "stream",
     "text": [
      "[1 2 3 4]\n",
      "-----\n",
      "[[2.5 1.  3.  4.5]\n",
      " [5.  6.  7.  8. ]]\n",
      "-----\n",
      "[[[2.5 1.  3.  4.5]\n",
      "  [5.  6.  7.  8. ]]\n",
      "\n",
      " [[2.5 1.  3.  4.5]\n",
      "  [5.  6.  7.  8. ]]]\n"
     ]
    }
   ],
   "source": [
    "a = np.array([1, 2, 3, 4]) # 建立一維陣列，list、tuple皆可\n",
    "print(a)\n",
    "print('-----')\n",
    "b = np.array([(2.5, 1, 3, 4.5), (5, 6, 7, 8)], dtype = float)  # 二維陣列, type可加可不加\n",
    "print(b)\n",
    "print('-----')\n",
    "c = np.array([[(2.5, 1, 3, 4.5), (5, 6, 7, 8)], [(2.5, 1, 3, 4.5), (5, 6, 7, 8)]])  #三維陣列建立\n",
    "print(c)"
   ]
  },
  {
   "cell_type": "code",
   "execution_count": 16,
   "metadata": {},
   "outputs": [
    {
     "name": "stdout",
     "output_type": "stream",
     "text": [
      "[[0. 0. 0.]\n",
      " [0. 0. 0.]] \n",
      "-----\n",
      "[[[1. 1. 1. 1.]\n",
      "  [1. 1. 1. 1.]\n",
      "  [1. 1. 1. 1.]]\n",
      "\n",
      " [[1. 1. 1. 1.]\n",
      "  [1. 1. 1. 1.]\n",
      "  [1. 1. 1. 1.]]] \n",
      "-----\n",
      "[[8 8]\n",
      " [8 8]\n",
      " [8 8]] \n",
      "-----\n",
      "[[1. 0.]\n",
      " [0. 1.]] \n",
      "-----\n",
      "[[0.12564791 0.43289935 0.8941641 ]\n",
      " [0.69969783 0.13211744 0.5187089 ]]\n"
     ]
    }
   ],
   "source": [
    "a = np.zeros((2, 3)) # 2x3全為0的陣列\n",
    "print(a, '\\n-----')\n",
    "b = np.ones((2, 3, 4)) # 2x3x4全為1的陣列\n",
    "print(b, '\\n-----')\n",
    "c = np.full((3,2), 8) # 3x2全為8的陣列\n",
    "print(c, '\\n-----')\n",
    "d = np.eye(2)  # 2x2的單位矩陣\n",
    "print(d, '\\n-----')\n",
    "e = np.random.random((2,3))  # 2x3隨機值(0~1)的矩陣\n",
    "print(e)"
   ]
  },
  {
   "cell_type": "code",
   "execution_count": 25,
   "metadata": {},
   "outputs": [
    {
     "name": "stdout",
     "output_type": "stream",
     "text": [
      "[[[1. 1. 1. 1.]\n",
      "  [1. 1. 1. 1.]\n",
      "  [1. 1. 1. 1.]]\n",
      "\n",
      " [[1. 1. 1. 1.]\n",
      "  [1. 1. 1. 1.]\n",
      "  [1. 1. 1. 1.]]]\n",
      "(2, 3, 4)\n",
      "2\n",
      "3\n",
      "24\n",
      "[[['1.0' '1.0' '1.0' '1.0']\n",
      "  ['1.0' '1.0' '1.0' '1.0']\n",
      "  ['1.0' '1.0' '1.0' '1.0']]\n",
      "\n",
      " [['1.0' '1.0' '1.0' '1.0']\n",
      "  ['1.0' '1.0' '1.0' '1.0']\n",
      "  ['1.0' '1.0' '1.0' '1.0']]]\n",
      "=======\n",
      "[['1.0' '1.0' '1.0' '1.0' '1.0' '1.0']\n",
      " ['1.0' '1.0' '1.0' '1.0' '1.0' '1.0']\n",
      " ['1.0' '1.0' '1.0' '1.0' '1.0' '1.0']\n",
      " ['1.0' '1.0' '1.0' '1.0' '1.0' '1.0']]\n"
     ]
    }
   ],
   "source": [
    "a = np.ones((2, 3, 4))\n",
    "print(a)\n",
    "print(a.shape) # 陣列維度\n",
    "print(len(a)) # 陣列長度(x)\n",
    "print(a.ndim) # 陣列維度大小(number of dimensions)\n",
    "print(a.size) # 陣列元素數量\n",
    "\n",
    "a = a.astype(str) # 更換元素類別\n",
    "print(a)\n",
    "print('=======')\n",
    "b = a.reshape(4, 6)\n",
    "print(b)"
   ]
  },
  {
   "cell_type": "code",
   "execution_count": 40,
   "metadata": {},
   "outputs": [
    {
     "name": "stdout",
     "output_type": "stream",
     "text": [
      "1\n",
      "[1 2]\n",
      "[1]\n",
      "-------\n",
      "[5. 6. 7. 8.]\n",
      "8.0\n",
      "[[2.5 1. ]\n",
      " [5.  6. ]]\n"
     ]
    }
   ],
   "source": [
    "# index\n",
    "a = np.array([1, 2, 3, 4])\n",
    "print(a[0])\n",
    "print(a[0:2])\n",
    "print('-------')\n",
    "b = np.array([(2.5, 1, 3, 4.5), (5, 6, 7, 8)])\n",
    "print(b[1])\n",
    "print(b[1, 3])\n",
    "print(b[0:, :2])"
   ]
  },
  {
   "cell_type": "code",
   "execution_count": 50,
   "metadata": {},
   "outputs": [
    {
     "name": "stdout",
     "output_type": "stream",
     "text": [
      "[[3 6]\n",
      " [3 6]]\n",
      "[[3 6]\n",
      " [3 6]]\n",
      "---\n",
      "[[-1 -2]\n",
      " [-1 -2]]\n",
      "---\n",
      "[[2 8]\n",
      " [2 8]]\n",
      "[[ 6 12]\n",
      " [ 6 12]]\n",
      "---\n",
      "[[0.5 0.5]\n",
      " [0.5 0.5]]\n"
     ]
    }
   ],
   "source": [
    "a = np.array([[1, 2], [1, 2]])\n",
    "b = np.array([[2, 4], [2, 4]])\n",
    "print(np.add(a, b))     #等同a+b\n",
    "print(a+b)\n",
    "print('---')\n",
    "print(np.subtract(a, b)) #等同a-b\n",
    "print('---')\n",
    "print(np.multiply(a, b)) #等同a*b\n",
    "print(a.dot(b)) #矩陣乘法\n",
    "print('---')\n",
    "print(np.divide(a, b)) #等同a/b"
   ]
  },
  {
   "cell_type": "code",
   "execution_count": 54,
   "metadata": {},
   "outputs": [
    {
     "name": "stdout",
     "output_type": "stream",
     "text": [
      "[ 7.5  7.  10.  12.5]\n",
      "[1. 5.]\n",
      "[5. 6. 7. 8.]\n",
      "---\n",
      "[3.75 3.5  5.   6.25]\n",
      "[2.75 6.5 ]\n",
      "[1.25 2.5  2.   1.75]\n"
     ]
    }
   ],
   "source": [
    "a = np.array([(2.5, 1, 3, 4.5), (5, 6, 7, 8)]) # 多維必須思考軸的對應\n",
    "\n",
    "print(a.sum(axis=0))\n",
    "print(a.min(axis=1))\n",
    "print(a.max(axis=0))\n",
    "print('---')\n",
    "print(np.median(a, axis=0))\n",
    "print(np.mean(a, axis=1))\n",
    "print(np.std(a, axis=0))"
   ]
  },
  {
   "cell_type": "markdown",
   "metadata": {},
   "source": [
    "# Pandas\n",
    "* 等同於表格(ex:excel)，有column、row\n",
    "* pandas為基於numpy產生的套件，使用大量資料運算時較能表現佳\n",
    "* 參考：https://oranwind.org/python-pandas-ji-chu-jiao-xue/"
   ]
  },
  {
   "cell_type": "code",
   "execution_count": 55,
   "metadata": {},
   "outputs": [],
   "source": [
    "import pandas as pd"
   ]
  },
  {
   "cell_type": "code",
   "execution_count": 56,
   "metadata": {},
   "outputs": [
    {
     "name": "stdout",
     "output_type": "stream",
     "text": [
      "0    2\n",
      "1    1\n",
      "2    7\n",
      "3    3\n",
      "dtype: int64\n"
     ]
    }
   ],
   "source": [
    "# Series\n",
    "# 索引標籤(index)和實際值的陣列組合\n",
    "series_1 = pd.Series([2, 1, 7, 3])\n",
    "\n",
    "print(series_1)"
   ]
  },
  {
   "cell_type": "code",
   "execution_count": 57,
   "metadata": {},
   "outputs": [
    {
     "name": "stdout",
     "output_type": "stream",
     "text": [
      "  student  id  math  english  science description class\n",
      "0    Jack   1    80     20.0     61.0    positive    2A\n",
      "1     Ash   2    70     91.0     80.0       smart    2B\n",
      "2    Alex   3    89      NaN     49.0         sad    2A\n",
      "3   Tommy   4    16     19.0     21.0         mad    2C\n",
      "4   Merry   5    49     17.0     46.0         mad    2C\n",
      "5   Apple   6    86     54.0     87.0       smart    2C\n",
      "6     NaN   7    64     29.0     19.0    negative    2A\n",
      "7  Queens   8    43     34.0     46.0         sad    2B\n",
      "8   Apolo   9    58     64.0      NaN    positive    2B\n",
      "9   Densy  10    90     58.0     83.0    positive    2B\n"
     ]
    }
   ],
   "source": [
    "# DataFrame\n",
    "# 類似試算表和關聯式資料庫資料表（table）欄列結構\n",
    "\n",
    "dataframe_1 = pd.read_csv('pandas_sample.csv')\n",
    "print(dataframe_1)"
   ]
  },
  {
   "cell_type": "code",
   "execution_count": 59,
   "metadata": {},
   "outputs": [
    {
     "name": "stdout",
     "output_type": "stream",
     "text": [
      "    groups  num\n",
      "0   Movies   46\n",
      "1   Sports    8\n",
      "2   Coding   12\n",
      "3  Fishing   12\n",
      "4  Dancing    6\n",
      "5  cooking   58\n"
     ]
    }
   ],
   "source": [
    "# 創立dataframe\n",
    "# from dict\n",
    "groups = [\"Movies\", \"Sports\", \"Coding\", \"Fishing\", \"Dancing\", \"cooking\"]  \n",
    "num = [46, 8, 12, 12, 6, 58]\n",
    "\n",
    "dict = {\"groups\": groups,  \n",
    "        \"num\": num}\n",
    "\n",
    "df = pd.DataFrame(dict)\n",
    "print(df)"
   ]
  },
  {
   "cell_type": "code",
   "execution_count": 60,
   "metadata": {},
   "outputs": [
    {
     "name": "stdout",
     "output_type": "stream",
     "text": [
      "    groups  num\n",
      "0   Movies   46\n",
      "1   Sports    8\n",
      "2   Coding   12\n",
      "3  Fishing   12\n",
      "4  Dancing    6\n",
      "5  cooking   58\n"
     ]
    }
   ],
   "source": [
    "# from list\n",
    "df = pd.DataFrame(columns = ['groups', 'num'])\n",
    "df['groups'] = groups\n",
    "df['num'] = num\n",
    "print(df)"
   ]
  },
  {
   "cell_type": "code",
   "execution_count": 61,
   "metadata": {},
   "outputs": [
    {
     "name": "stdout",
     "output_type": "stream",
     "text": [
      "(6, 2)\n",
      "---\n",
      "   groups  num\n",
      "0  Movies   46\n",
      "1  Sports    8\n",
      "2  Coding   12\n",
      "---\n",
      "    groups  num\n",
      "3  Fishing   12\n",
      "4  Dancing    6\n",
      "5  cooking   58\n",
      "---\n",
      "Index(['groups', 'num'], dtype='object')\n",
      "---\n",
      "RangeIndex(start=0, stop=6, step=1)\n",
      "---\n",
      "<bound method DataFrame.info of     groups  num\n",
      "0   Movies   46\n",
      "1   Sports    8\n",
      "2   Coding   12\n",
      "3  Fishing   12\n",
      "4  Dancing    6\n",
      "5  cooking   58>\n"
     ]
    }
   ],
   "source": [
    "print(select_df.shape) # 回傳列數與欄數  \n",
    "print('---')\n",
    "print(select_df.head(3)) # 回傳前三筆值  \n",
    "print('---')  \n",
    "print(select_df.tail(3)) # 回傳後三筆值  \n",
    "print('---')  \n",
    "print(select_df.columns) # 回傳欄位名稱  \n",
    "print('---')  \n",
    "print(select_df.index) # 回傳 index  \n",
    "print('---')  \n",
    "print(select_df.info) # 回傳資料內容"
   ]
  },
  {
   "cell_type": "code",
   "execution_count": 62,
   "metadata": {},
   "outputs": [],
   "source": [
    "# iloc"
   ]
  },
  {
   "cell_type": "code",
   "execution_count": null,
   "metadata": {},
   "outputs": [],
   "source": []
  }
 ],
 "metadata": {
  "kernelspec": {
   "display_name": "Python 3",
   "language": "python",
   "name": "python3"
  },
  "language_info": {
   "codemirror_mode": {
    "name": "ipython",
    "version": 3
   },
   "file_extension": ".py",
   "mimetype": "text/x-python",
   "name": "python",
   "nbconvert_exporter": "python",
   "pygments_lexer": "ipython3",
   "version": "3.6.10"
  }
 },
 "nbformat": 4,
 "nbformat_minor": 4
}
