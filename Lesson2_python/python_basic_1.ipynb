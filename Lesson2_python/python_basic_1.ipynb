{
 "cells": [
  {
   "cell_type": "code",
   "execution_count": 20,
   "metadata": {},
   "outputs": [
    {
     "name": "stdout",
     "output_type": "stream",
     "text": [
      "ok\n",
      "ok\n",
      "ok\n",
      "ok\n",
      "ok\n",
      "ok\n",
      "ok\n",
      "ok\n",
      "ok\n",
      "ok\n"
     ]
    }
   ],
   "source": [
    "# 註解\n",
    "\n",
    "'''\n",
    "多\n",
    "行\n",
    "註\n",
    "解\n",
    "''' \n",
    "\n",
    "# python 注重縮排，方便觀察區塊(類似於c/c++ {})，可用空白鍵 or tab鍵(建議)做縮排\n",
    "for i in range(3):\n",
    "print('ok')"
   ]
  },
  {
   "cell_type": "code",
   "execution_count": 5,
   "metadata": {},
   "outputs": [
    {
     "name": "stdout",
     "output_type": "stream",
     "text": [
      "lab training\n",
      "12345\n",
      "a = 1 b = 2 c = 3\n",
      "a = 1 b = 2 c = 3\n"
     ]
    }
   ],
   "source": [
    "# print\n",
    "print('lab training') # string\n",
    "print(12345) # int/float\n",
    "\n",
    "print('a =', 1, 'b =', 2, 'c =', 3)\n",
    "print('a = {} b = {} c = {}'.format(1, 2, 3))"
   ]
  },
  {
   "cell_type": "code",
   "execution_count": 10,
   "metadata": {},
   "outputs": [
    {
     "name": "stdout",
     "output_type": "stream",
     "text": [
      "1 2\n",
      "3\n",
      "3\n",
      "lab training\n",
      "1+2=3\n",
      "1 2 3\n"
     ]
    }
   ],
   "source": [
    "# variable\n",
    "a = 1\n",
    "b = 2\n",
    "print(a, b)\n",
    "c = a + b\n",
    "print(c)\n",
    "print(a+b)\n",
    "\n",
    "string = 'lab training'\n",
    "print(string)\n",
    "\n",
    "#print(a+'+'+b+'='+c)\n",
    "print( str(a)+'+'+str(b)+'='+str(c) )\n",
    "\n",
    "x, y, z = 1, 2, 3\n",
    "print(x, y, z)"
   ]
  },
  {
   "cell_type": "code",
   "execution_count": 11,
   "metadata": {},
   "outputs": [
    {
     "name": "stdout",
     "output_type": "stream",
     "text": [
      "5\n",
      "-1\n",
      "6\n",
      "0.6666666666666666\n",
      "8\n",
      "1\n",
      "3\n"
     ]
    }
   ],
   "source": [
    "# operation\n",
    "print(2+3) # +\n",
    "print(2-3) # -\n",
    "print(2*3) # *\n",
    "print(2/3) # /\n",
    "print(2**3)# ** 次方\n",
    "print(100%33) # % 取餘數\n",
    "print(100//33)# // 取商"
   ]
  },
  {
   "cell_type": "code",
   "execution_count": 16,
   "metadata": {},
   "outputs": [
    {
     "name": "stdout",
     "output_type": "stream",
     "text": [
      "if\n"
     ]
    }
   ],
   "source": [
    "# 條件判斷 if\n",
    "# =:賦值、 ==:判斷比對\n",
    "a = 100\n",
    "\n",
    "if a == 100:\n",
    "    print('if')\n",
    "elif a == 101:\n",
    "    print('elif')\n",
    "else:\n",
    "    print('else')"
   ]
  },
  {
   "cell_type": "code",
   "execution_count": null,
   "metadata": {},
   "outputs": [],
   "source": [
    "a = 100\n",
    "\n",
    "if a == 100:\n",
    "    print('if')\n",
    "if a == 101:\n",
    "    print('elif')"
   ]
  },
  {
   "cell_type": "code",
   "execution_count": 23,
   "metadata": {},
   "outputs": [
    {
     "name": "stdout",
     "output_type": "stream",
     "text": [
      "test if\n",
      "if 1\n",
      "if 2\n",
      "\n",
      "test elif\n",
      "if 1\n"
     ]
    }
   ],
   "source": [
    "# if vs. elif\n",
    "a = 100\n",
    "count = 0\n",
    "\n",
    "# if\n",
    "print('test if')\n",
    "if a <= 101:\n",
    "    print('if 1')\n",
    "if a <= 150:\n",
    "    print('if 2')\n",
    "    \n",
    "# elif\n",
    "print('\\ntest elif')\n",
    "if a <= 101:\n",
    "    print('if 1')\n",
    "elif a <= 150:\n",
    "    print('if 2')"
   ]
  },
  {
   "cell_type": "code",
   "execution_count": 24,
   "metadata": {},
   "outputs": [
    {
     "name": "stdout",
     "output_type": "stream",
     "text": [
      "2020 是閏年\n"
     ]
    }
   ],
   "source": [
    "# test 1 : 判斷年分是否為閏年\n",
    "\n",
    "# 1. 公元年分非4的倍數，為平年。\n",
    "# 2. 公元年分為4的倍數但非100的倍數，為閏年。\n",
    "# 3. 公元年分為100的倍數但非400的倍數，為平年。\n",
    "# 4. 公元年分為400的倍數為閏年。\n",
    "\n",
    "\n",
    "year = 2020\n",
    "\n",
    "if (year % 4) == 0:\n",
    "    if (year % 100) == 0:\n",
    "        if (year % 400) == 0:\n",
    "            print('{} 為閏年'.format(year))\n",
    "        else:\n",
    "            print('{} 不是閏年'.format(year))\n",
    "    else:\n",
    "        print('{} 是閏年'.format(year))\n",
    "else:\n",
    "    print('{} 不是閏年'.format(year))"
   ]
  },
  {
   "cell_type": "code",
   "execution_count": 28,
   "metadata": {},
   "outputs": [
    {
     "name": "stdout",
     "output_type": "stream",
     "text": [
      "0\n",
      "0\n",
      "====\n",
      "1\n",
      "1\n",
      "====\n",
      "2\n",
      "4\n",
      "====\n",
      "3\n",
      "9\n",
      "====\n",
      "4\n",
      "16\n",
      "====\n"
     ]
    }
   ],
   "source": [
    "# loop 迴圈\n",
    "# for ... in ... :\n",
    "\n",
    "for i in range(5): #:\n",
    "    # do something\n",
    "    answer = i*i\n",
    "    print(i)\n",
    "    print(answer)\n",
    "    print('====')"
   ]
  },
  {
   "cell_type": "code",
   "execution_count": 41,
   "metadata": {},
   "outputs": [
    {
     "name": "stdout",
     "output_type": "stream",
     "text": [
      "0\n",
      "1\n",
      "2\n",
      "3\n",
      "4\n",
      "5\n",
      "6\n",
      "7\n",
      "8\n",
      "9\n"
     ]
    }
   ],
   "source": [
    "# 從0開始 (0, 10), (10), (0, 10, 2), (10, 0, -2)\n",
    "for i in range(0, 10):\n",
    "    print(i)"
   ]
  },
  {
   "cell_type": "code",
   "execution_count": null,
   "metadata": {},
   "outputs": [],
   "source": [
    "string_test = 'hello'\n",
    "length = len(string_test)\n",
    "for i in range(length):\n",
    "    print(string_test[i])"
   ]
  },
  {
   "cell_type": "code",
   "execution_count": null,
   "metadata": {},
   "outputs": [],
   "source": [
    "total = 0\n",
    "for i in range(0, 10):\n",
    "    total += i # total = i + total \n",
    "print(total)"
   ]
  },
  {
   "cell_type": "code",
   "execution_count": 49,
   "metadata": {},
   "outputs": [
    {
     "name": "stdout",
     "output_type": "stream",
     "text": [
      "二的倍數: 0\n",
      "其他的數: 1\n",
      "二的倍數: 2\n",
      "三的倍數: 3\n",
      "二的倍數: 4\n",
      "其他的數: 5\n",
      "二的倍數: 6\n",
      "其他的數: 7\n",
      "二的倍數: 8\n",
      "三的倍數: 9\n"
     ]
    }
   ],
   "source": [
    "for i in range(10):\n",
    "    if i%2 == 0:\n",
    "        print('二的倍數:', i)\n",
    "    elif i%3 == 0:\n",
    "        print('三的倍數:', i)\n",
    "    else:\n",
    "        print('其他的數:', i)"
   ]
  },
  {
   "cell_type": "code",
   "execution_count": null,
   "metadata": {},
   "outputs": [],
   "source": [
    "threshold = 10\n",
    "count = 0\n",
    "while count <= threshold:\n",
    "    print(count)\n",
    "    count += 1"
   ]
  },
  {
   "cell_type": "code",
   "execution_count": null,
   "metadata": {},
   "outputs": [],
   "source": [
    "# for loop\n",
    "for i in range(5): #:\n",
    "    # do something\n",
    "    answer = i*i\n",
    "    print(i)\n",
    "    print(answer)\n",
    "    print('====')"
   ]
  },
  {
   "cell_type": "code",
   "execution_count": 34,
   "metadata": {},
   "outputs": [
    {
     "name": "stdout",
     "output_type": "stream",
     "text": [
      "0\n",
      "0\n",
      "====\n",
      "1\n",
      "1\n",
      "====\n",
      "2\n",
      "4\n",
      "====\n",
      "3\n",
      "9\n",
      "====\n"
     ]
    }
   ],
   "source": [
    "# while loop\n",
    "answer = 0\n",
    "i = 0\n",
    "while answer < 5:\n",
    "    answer = i*i\n",
    "    print(i)\n",
    "    print(answer)\n",
    "    print('====')\n",
    "    \n",
    "    i += 1\n",
    "    \n",
    "# for 常用於有限迴圈\n",
    "# while 常用於無限迴圈"
   ]
  },
  {
   "cell_type": "code",
   "execution_count": 52,
   "metadata": {},
   "outputs": [
    {
     "name": "stdout",
     "output_type": "stream",
     "text": [
      "3\n"
     ]
    }
   ],
   "source": [
    "# function\n",
    "# def func_name():        函式名\n",
    "#     do something...     函式內容\n",
    "#     return or not       輸出結果\n",
    "\n",
    "def add(a, b):\n",
    "    c = a + b\n",
    "    return c\n",
    "\n",
    "a = 1\n",
    "b = 2\n",
    "c_output = add(a, b)\n",
    "print(c_output)"
   ]
  },
  {
   "cell_type": "code",
   "execution_count": 81,
   "metadata": {},
   "outputs": [],
   "source": [
    "# local/global variable\n",
    "\n",
    "var_1 = 5 # global，全區域皆可用\n",
    "\n",
    "def try1():\n",
    "    var_2 = 3 # local，只能用在函式中使用\n",
    "    print(var_2)\n",
    "    print(var_1)\n",
    "    #global output # 不常使用\n",
    "    \n",
    "    output = var_1+var_2\n",
    "    print(output)\n",
    "    \n",
    "def try2():\n",
    "    var_2 = 7\n",
    "    print(var_2)"
   ]
  },
  {
   "cell_type": "code",
   "execution_count": 82,
   "metadata": {},
   "outputs": [
    {
     "name": "stdout",
     "output_type": "stream",
     "text": [
      "3\n",
      "5\n",
      "8\n"
     ]
    }
   ],
   "source": [
    "try1()"
   ]
  },
  {
   "cell_type": "code",
   "execution_count": 74,
   "metadata": {},
   "outputs": [
    {
     "data": {
      "text/plain": [
       "8"
      ]
     },
     "execution_count": 74,
     "metadata": {},
     "output_type": "execute_result"
    }
   ],
   "source": [
    "print(output)"
   ]
  },
  {
   "cell_type": "code",
   "execution_count": 71,
   "metadata": {},
   "outputs": [
    {
     "name": "stdout",
     "output_type": "stream",
     "text": [
      "5\n"
     ]
    },
    {
     "ename": "NameError",
     "evalue": "name 'var_2' is not defined",
     "output_type": "error",
     "traceback": [
      "\u001b[1;31m---------------------------------------------------------------------------\u001b[0m",
      "\u001b[1;31mNameError\u001b[0m                                 Traceback (most recent call last)",
      "\u001b[1;32m<ipython-input-71-8906adde76b7>\u001b[0m in \u001b[0;36m<module>\u001b[1;34m\u001b[0m\n\u001b[0;32m      1\u001b[0m \u001b[0mprint\u001b[0m\u001b[1;33m(\u001b[0m\u001b[0mvar_1\u001b[0m\u001b[1;33m)\u001b[0m \u001b[1;31m# 一行一行執行\u001b[0m\u001b[1;33m\u001b[0m\u001b[1;33m\u001b[0m\u001b[0m\n\u001b[1;32m----> 2\u001b[1;33m \u001b[0mprint\u001b[0m\u001b[1;33m(\u001b[0m\u001b[0mvar_2\u001b[0m\u001b[1;33m)\u001b[0m\u001b[1;33m\u001b[0m\u001b[1;33m\u001b[0m\u001b[0m\n\u001b[0m",
      "\u001b[1;31mNameError\u001b[0m: name 'var_2' is not defined"
     ]
    }
   ],
   "source": [
    "print(var_1) # 一行一行執行\n",
    "print(var_2)"
   ]
  },
  {
   "cell_type": "code",
   "execution_count": 94,
   "metadata": {},
   "outputs": [
    {
     "name": "stdout",
     "output_type": "stream",
     "text": [
      "Sun Jul  4 19:29:27 2021\n"
     ]
    }
   ],
   "source": [
    "# time and import\n",
    "import time   # 導入函式庫(default or install)\n",
    "now = time.asctime() # time.time()\n",
    "print(now)"
   ]
  },
  {
   "cell_type": "code",
   "execution_count": 88,
   "metadata": {},
   "outputs": [],
   "source": [
    "# test 2 : \n",
    "# 輸入四個成績，並利用function做等第對應(A:90-100, B:80-90, C:70-80, D:60-70, F:0-60)，最後輸出分數及等第(87-B 95-A ...)"
   ]
  },
  {
   "cell_type": "code",
   "execution_count": 95,
   "metadata": {},
   "outputs": [],
   "source": [
    "# open\n",
    "f = open('test.txt', 'w')\n",
    "f.write('hello world')\n",
    "f.close()"
   ]
  },
  {
   "cell_type": "code",
   "execution_count": 101,
   "metadata": {},
   "outputs": [
    {
     "name": "stdout",
     "output_type": "stream",
     "text": [
      "hello world\n",
      "this\n",
      "is\n",
      "lab training\n"
     ]
    }
   ],
   "source": [
    "f = open('test.txt', 'r') # w, r, rb ...\n",
    "string = f.read()\n",
    "f.close()\n",
    "\n",
    "print(string)"
   ]
  },
  {
   "cell_type": "code",
   "execution_count": 99,
   "metadata": {},
   "outputs": [
    {
     "name": "stdout",
     "output_type": "stream",
     "text": [
      "hello world\n"
     ]
    }
   ],
   "source": [
    "# with open\n",
    "# 檔案使用完畢後必須關閉，因為檔案物件會佔用作業系統的資源\n",
    "# with open 會自動呼叫 close()\n",
    "\n",
    "with open('test.txt', 'r') as f:\n",
    "    string2 = f.read()\n",
    "\n",
    "print(string2)"
   ]
  },
  {
   "cell_type": "code",
   "execution_count": 118,
   "metadata": {},
   "outputs": [
    {
     "name": "stdout",
     "output_type": "stream",
     "text": [
      "=== read ===\n",
      "hello world\n",
      "this\n",
      "is\n",
      "lab training\n",
      "<class 'str'>\n",
      "\n",
      "=== readline ===\n",
      "hello world\n",
      "\n",
      "this\n",
      "\n",
      "\n",
      "=== readlines ===\n",
      "['hello world\\n', 'this\\n', 'is\\n', 'lab training']\n",
      "<class 'list'>\n"
     ]
    }
   ],
   "source": [
    "# read/readline/readlines\n",
    "\n",
    "print('=== read ===') # 將整個文件讀做字串\n",
    "with open('test.txt', 'r') as f:\n",
    "    string3 = f.read()\n",
    "print(string3)\n",
    "print(type(string3))\n",
    "print()\n",
    "\n",
    "print('=== readline ===') # 一次讀一行，占用記憶體較小\n",
    "with open('test.txt', 'r') as f:\n",
    "    string4 = f.readline()\n",
    "    string5 = f.readline()\n",
    "print(string4)\n",
    "print(string5)\n",
    "print()\n",
    "print('=== readlines ===')\n",
    "with open('test.txt', 'r') as f: # 讀取所有行並存在一個陣列(list)當中\n",
    "    string6 = f.readlines()\n",
    "print(string6)\n",
    "print(type(string6))"
   ]
  },
  {
   "cell_type": "code",
   "execution_count": null,
   "metadata": {},
   "outputs": [],
   "source": [
    "# test3\n",
    "# 將自己上禮拜的自我介紹存成txt檔並顯示於介面上(格式要正確)"
   ]
  }
 ],
 "metadata": {
  "kernelspec": {
   "display_name": "Python 3",
   "language": "python",
   "name": "python3"
  },
  "language_info": {
   "codemirror_mode": {
    "name": "ipython",
    "version": 3
   },
   "file_extension": ".py",
   "mimetype": "text/x-python",
   "name": "python",
   "nbconvert_exporter": "python",
   "pygments_lexer": "ipython3",
   "version": "3.6.10"
  }
 },
 "nbformat": 4,
 "nbformat_minor": 4
}
